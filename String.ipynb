{
  "nbformat": 4,
  "nbformat_minor": 0,
  "metadata": {
    "colab": {
      "name": "String.ipynb",
      "version": "0.3.2",
      "provenance": []
    },
    "language_info": {
      "codemirror_mode": {
        "name": "ipython",
        "version": 3
      },
      "file_extension": ".py",
      "mimetype": "text/x-python",
      "name": "python",
      "nbconvert_exporter": "python",
      "pygments_lexer": "ipython3",
      "version": "3.7.0"
    },
    "kernelspec": {
      "display_name": "Python 3",
      "language": "python",
      "name": "python3"
    }
  },
  "cells": [
    {
      "metadata": {
        "id": "Lg8B9uSKtHTB",
        "colab_type": "code",
        "colab": {},
        "outputId": "659954fa-05c4-41a7-c826-1273ec2ac14a"
      },
      "cell_type": "code",
      "source": [
        "2 ** 3\n"
      ],
      "execution_count": 0,
      "outputs": [
        {
          "output_type": "execute_result",
          "data": {
            "text/plain": [
              "8"
            ]
          },
          "metadata": {
            "tags": []
          },
          "execution_count": 1
        }
      ]
    },
    {
      "metadata": {
        "id": "7Y6KBvsmtHTR",
        "colab_type": "code",
        "colab": {},
        "outputId": "665e01d9-f8ba-4270-80a2-1034ca4d29d2"
      },
      "cell_type": "code",
      "source": [
        "2*3+1"
      ],
      "execution_count": 0,
      "outputs": [
        {
          "output_type": "execute_result",
          "data": {
            "text/plain": [
              "7"
            ]
          },
          "metadata": {
            "tags": []
          },
          "execution_count": 2
        }
      ]
    },
    {
      "metadata": {
        "id": "ScTWEARytHTX",
        "colab_type": "code",
        "colab": {},
        "outputId": "221b9992-aacf-4067-a190-ccc5691c416d"
      },
      "cell_type": "code",
      "source": [
        "1/2"
      ],
      "execution_count": 0,
      "outputs": [
        {
          "output_type": "execute_result",
          "data": {
            "text/plain": [
              "0.5"
            ]
          },
          "metadata": {
            "tags": []
          },
          "execution_count": 3
        }
      ]
    },
    {
      "metadata": {
        "id": "Ee4wYNYytHTc",
        "colab_type": "code",
        "colab": {}
      },
      "cell_type": "code",
      "source": [
        "a = 10\n"
      ],
      "execution_count": 0,
      "outputs": []
    },
    {
      "metadata": {
        "id": "_Ut1mWXftHTh",
        "colab_type": "code",
        "colab": {}
      },
      "cell_type": "code",
      "source": [
        "a = a + a\n"
      ],
      "execution_count": 0,
      "outputs": []
    },
    {
      "metadata": {
        "id": "nfZxAEbPtHTl",
        "colab_type": "code",
        "colab": {},
        "outputId": "d47e91e3-9432-4fbf-8f67-f0763d7c5a0f"
      },
      "cell_type": "code",
      "source": [
        "a"
      ],
      "execution_count": 0,
      "outputs": [
        {
          "output_type": "execute_result",
          "data": {
            "text/plain": [
              "40"
            ]
          },
          "metadata": {
            "tags": []
          },
          "execution_count": 10
        }
      ]
    },
    {
      "metadata": {
        "id": "MZRJ5dY7tHTx",
        "colab_type": "code",
        "colab": {},
        "outputId": "aecaf882-a010-4a79-f78a-224eb36d7bb2"
      },
      "cell_type": "code",
      "source": [
        "'hello'"
      ],
      "execution_count": 0,
      "outputs": [
        {
          "output_type": "execute_result",
          "data": {
            "text/plain": [
              "'hello'"
            ]
          },
          "metadata": {
            "tags": []
          },
          "execution_count": 11
        }
      ]
    },
    {
      "metadata": {
        "id": "I7psG27ctHT2",
        "colab_type": "code",
        "colab": {
          "base_uri": "https://localhost:8080/",
          "height": 34
        },
        "outputId": "59e5b84f-0062-4e87-87da-69bd4263b175"
      },
      "cell_type": "code",
      "source": [
        "\"world's\"\n"
      ],
      "execution_count": 1,
      "outputs": [
        {
          "output_type": "execute_result",
          "data": {
            "text/plain": [
              "\"world's\""
            ]
          },
          "metadata": {
            "tags": []
          },
          "execution_count": 1
        }
      ]
    },
    {
      "metadata": {
        "id": "q5ecQh3stHT8",
        "colab_type": "code",
        "colab": {}
      },
      "cell_type": "code",
      "source": [
        "mystring = \"Hello World\""
      ],
      "execution_count": 0,
      "outputs": []
    },
    {
      "metadata": {
        "id": "-kQpF7IWtHUF",
        "colab_type": "code",
        "colab": {},
        "outputId": "fedee24c-d6f3-4cdd-95d7-4357a9faf6a9"
      },
      "cell_type": "code",
      "source": [
        "mystring[0]"
      ],
      "execution_count": 0,
      "outputs": [
        {
          "output_type": "execute_result",
          "data": {
            "text/plain": [
              "'H'"
            ]
          },
          "metadata": {
            "tags": []
          },
          "execution_count": 25
        }
      ]
    },
    {
      "metadata": {
        "id": "l9pH7CdXtHUJ",
        "colab_type": "code",
        "colab": {},
        "outputId": "f76e56af-a4a0-4d16-de6a-6e7ed3f307ec"
      },
      "cell_type": "code",
      "source": [
        "mystring[8]"
      ],
      "execution_count": 0,
      "outputs": [
        {
          "output_type": "execute_result",
          "data": {
            "text/plain": [
              "'r'"
            ]
          },
          "metadata": {
            "tags": []
          },
          "execution_count": 28
        }
      ]
    },
    {
      "metadata": {
        "id": "T2gFc2VYtHUN",
        "colab_type": "code",
        "colab": {},
        "outputId": "c73f0977-f994-436a-9654-fadb0d36cbff"
      },
      "cell_type": "code",
      "source": [
        "mystring[-3]"
      ],
      "execution_count": 0,
      "outputs": [
        {
          "output_type": "execute_result",
          "data": {
            "text/plain": [
              "'r'"
            ]
          },
          "metadata": {
            "tags": []
          },
          "execution_count": 29
        }
      ]
    },
    {
      "metadata": {
        "id": "07zhLDB1tHUW",
        "colab_type": "code",
        "colab": {}
      },
      "cell_type": "code",
      "source": [
        "mystring = \"abcdefghijk\""
      ],
      "execution_count": 0,
      "outputs": []
    },
    {
      "metadata": {
        "id": "WbsZcbIvtHUZ",
        "colab_type": "code",
        "colab": {},
        "outputId": "69a53e39-58d6-40ee-bcf2-8ac3bfa26075"
      },
      "cell_type": "code",
      "source": [
        "mystring"
      ],
      "execution_count": 0,
      "outputs": [
        {
          "output_type": "execute_result",
          "data": {
            "text/plain": [
              "'abcdefghijk'"
            ]
          },
          "metadata": {
            "tags": []
          },
          "execution_count": 31
        }
      ]
    },
    {
      "metadata": {
        "id": "UZvUaP5wtHUr",
        "colab_type": "code",
        "colab": {},
        "outputId": "be13d427-9f6f-46f0-e68e-2aa4841033e0"
      },
      "cell_type": "code",
      "source": [
        "mystring[2:]"
      ],
      "execution_count": 0,
      "outputs": [
        {
          "output_type": "execute_result",
          "data": {
            "text/plain": [
              "'cdefghijk'"
            ]
          },
          "metadata": {
            "tags": []
          },
          "execution_count": 32
        }
      ]
    },
    {
      "metadata": {
        "id": "8C8yDoGQtHU4",
        "colab_type": "code",
        "colab": {},
        "outputId": "c8b966ed-adc8-4ff5-add2-e0f3c821b715"
      },
      "cell_type": "code",
      "source": [
        "mystring[:3]"
      ],
      "execution_count": 0,
      "outputs": [
        {
          "output_type": "execute_result",
          "data": {
            "text/plain": [
              "'abc'"
            ]
          },
          "metadata": {
            "tags": []
          },
          "execution_count": 33
        }
      ]
    },
    {
      "metadata": {
        "id": "OiOyfX-JtHU_",
        "colab_type": "code",
        "colab": {},
        "outputId": "e60eef34-afe7-4106-ea02-a68ad85687d5"
      },
      "cell_type": "code",
      "source": [
        "mystring[3:6]"
      ],
      "execution_count": 0,
      "outputs": [
        {
          "output_type": "execute_result",
          "data": {
            "text/plain": [
              "'def'"
            ]
          },
          "metadata": {
            "tags": []
          },
          "execution_count": 34
        }
      ]
    },
    {
      "metadata": {
        "id": "rA29mCFVtHVa",
        "colab_type": "code",
        "colab": {},
        "outputId": "2bb2687c-c55a-4189-946d-f7df36111019"
      },
      "cell_type": "code",
      "source": [
        "mystring[1:3]"
      ],
      "execution_count": 0,
      "outputs": [
        {
          "output_type": "execute_result",
          "data": {
            "text/plain": [
              "'bc'"
            ]
          },
          "metadata": {
            "tags": []
          },
          "execution_count": 35
        }
      ]
    },
    {
      "metadata": {
        "id": "-wWwzHK1tHVr",
        "colab_type": "code",
        "colab": {},
        "outputId": "deef0a0f-a6bf-4d27-f45e-baa5281917d3"
      },
      "cell_type": "code",
      "source": [
        "mystring[::]"
      ],
      "execution_count": 0,
      "outputs": [
        {
          "output_type": "execute_result",
          "data": {
            "text/plain": [
              "'abcdefghijk'"
            ]
          },
          "metadata": {
            "tags": []
          },
          "execution_count": 36
        }
      ]
    },
    {
      "metadata": {
        "id": "sBAfcfOZtHV6",
        "colab_type": "code",
        "colab": {},
        "outputId": "3708f63e-26ab-433d-a4ec-7c897b9de2f8"
      },
      "cell_type": "code",
      "source": [
        "mystring[::2]"
      ],
      "execution_count": 0,
      "outputs": [
        {
          "output_type": "execute_result",
          "data": {
            "text/plain": [
              "'acegik'"
            ]
          },
          "metadata": {
            "tags": []
          },
          "execution_count": 37
        }
      ]
    },
    {
      "metadata": {
        "id": "nu-hZZEEtHWI",
        "colab_type": "code",
        "colab": {},
        "outputId": "611d948a-bbe5-454f-dd43-00aa6f7ff342"
      },
      "cell_type": "code",
      "source": [
        "mystring[::4]"
      ],
      "execution_count": 0,
      "outputs": [
        {
          "output_type": "execute_result",
          "data": {
            "text/plain": [
              "'aei'"
            ]
          },
          "metadata": {
            "tags": []
          },
          "execution_count": 38
        }
      ]
    },
    {
      "metadata": {
        "id": "-Lul_v1-tHWY",
        "colab_type": "code",
        "colab": {},
        "outputId": "e19a9b87-04e6-4fe7-fc73-cb3861241166"
      },
      "cell_type": "code",
      "source": [
        "mystring[::-1]"
      ],
      "execution_count": 0,
      "outputs": [
        {
          "output_type": "execute_result",
          "data": {
            "text/plain": [
              "'kjihgfedcba'"
            ]
          },
          "metadata": {
            "tags": []
          },
          "execution_count": 41
        }
      ]
    },
    {
      "metadata": {
        "id": "pZgD1q54tHWf",
        "colab_type": "code",
        "colab": {},
        "outputId": "a4c84ee6-3d60-43cb-a5a1-8bebcee05735"
      },
      "cell_type": "code",
      "source": [
        "print('\"Hello World\"[8] +\"\"')"
      ],
      "execution_count": 0,
      "outputs": [
        {
          "output_type": "stream",
          "text": [
            "\"Hello World\"[8]\n"
          ],
          "name": "stdout"
        }
      ]
    },
    {
      "metadata": {
        "id": "GD6XdQCitHWp",
        "colab_type": "code",
        "colab": {},
        "outputId": "456708de-c363-4c05-8e20-04edf28db2f7"
      },
      "cell_type": "code",
      "source": [
        "print(\"Hello World\"[8])"
      ],
      "execution_count": 0,
      "outputs": [
        {
          "output_type": "stream",
          "text": [
            "r\n"
          ],
          "name": "stdout"
        }
      ]
    },
    {
      "metadata": {
        "id": "7lnOnQYmtHW_",
        "colab_type": "code",
        "colab": {}
      },
      "cell_type": "code",
      "source": [
        "name = \"Sam\""
      ],
      "execution_count": 0,
      "outputs": []
    },
    {
      "metadata": {
        "id": "vnR0hgCztHXD",
        "colab_type": "code",
        "colab": {}
      },
      "cell_type": "code",
      "source": [
        "#name[0] = 'P'"
      ],
      "execution_count": 0,
      "outputs": []
    },
    {
      "metadata": {
        "id": "HLeZ1KCitHXN",
        "colab_type": "code",
        "colab": {},
        "outputId": "3e30f92a-ac1d-4fe4-a81a-9433c7455fdd"
      },
      "cell_type": "code",
      "source": [
        "\"P\" + name[1:]"
      ],
      "execution_count": 0,
      "outputs": [
        {
          "output_type": "execute_result",
          "data": {
            "text/plain": [
              "'Pam'"
            ]
          },
          "metadata": {
            "tags": []
          },
          "execution_count": 58
        }
      ]
    },
    {
      "metadata": {
        "id": "BubyVoICtHXX",
        "colab_type": "code",
        "colab": {}
      },
      "cell_type": "code",
      "source": [
        "letter = 'Z'"
      ],
      "execution_count": 0,
      "outputs": []
    },
    {
      "metadata": {
        "id": "TRQShXL0tHXd",
        "colab_type": "code",
        "colab": {},
        "outputId": "2e07a72e-11e3-4b16-a161-cad21d764fc6"
      },
      "cell_type": "code",
      "source": [
        "letter * 10"
      ],
      "execution_count": 0,
      "outputs": [
        {
          "output_type": "execute_result",
          "data": {
            "text/plain": [
              "'ZZZZZZZZZZ'"
            ]
          },
          "metadata": {
            "tags": []
          },
          "execution_count": 60
        }
      ]
    },
    {
      "metadata": {
        "id": "hIdnpgxktHXn",
        "colab_type": "code",
        "colab": {}
      },
      "cell_type": "code",
      "source": [
        "x = \"Hello World\""
      ],
      "execution_count": 0,
      "outputs": []
    },
    {
      "metadata": {
        "id": "RqSc07LGtHXv",
        "colab_type": "code",
        "colab": {},
        "outputId": "38b80d1b-805e-4762-a29b-15e70b94327e"
      },
      "cell_type": "code",
      "source": [
        "x.upper()"
      ],
      "execution_count": 0,
      "outputs": [
        {
          "output_type": "execute_result",
          "data": {
            "text/plain": [
              "'HELLO WORLD'"
            ]
          },
          "metadata": {
            "tags": []
          },
          "execution_count": 63
        }
      ]
    },
    {
      "metadata": {
        "id": "rd4QscHmtHX7",
        "colab_type": "code",
        "colab": {},
        "outputId": "8f5ce4b5-8631-443c-fd7d-493023288ff8"
      },
      "cell_type": "code",
      "source": [
        "print('The {} {} {}'.format('brown', 'quick', 'fox'))"
      ],
      "execution_count": 0,
      "outputs": [
        {
          "output_type": "stream",
          "text": [
            "The brown quick fox\n"
          ],
          "name": "stdout"
        }
      ]
    },
    {
      "metadata": {
        "id": "uxdYKGs3tHYJ",
        "colab_type": "code",
        "colab": {},
        "outputId": "91589e72-0391-4429-ab81-b6a934386781"
      },
      "cell_type": "code",
      "source": [
        "print('The {1} {0} {2}'.format('brown', 'quick', 'fox'))"
      ],
      "execution_count": 0,
      "outputs": [
        {
          "output_type": "stream",
          "text": [
            "The quick brown fox\n"
          ],
          "name": "stdout"
        }
      ]
    },
    {
      "metadata": {
        "id": "U6bnyACftHYU",
        "colab_type": "code",
        "colab": {},
        "outputId": "cb8c0984-8bcb-4c9e-eb09-f573b82c4bbb"
      },
      "cell_type": "code",
      "source": [
        "print('The {q} {b} {f}'.format(b = 'brown', q = 'quick', f = 'fox'))"
      ],
      "execution_count": 0,
      "outputs": [
        {
          "output_type": "stream",
          "text": [
            "The quick brown fox\n"
          ],
          "name": "stdout"
        }
      ]
    },
    {
      "metadata": {
        "id": "fxCsL87mtHYd",
        "colab_type": "code",
        "colab": {}
      },
      "cell_type": "code",
      "source": [
        "result = 100/777"
      ],
      "execution_count": 0,
      "outputs": []
    },
    {
      "metadata": {
        "id": "ElLHWw_1tHYi",
        "colab_type": "code",
        "colab": {},
        "outputId": "c7fb2c34-369d-49a0-c4f9-02529dcad8d0"
      },
      "cell_type": "code",
      "source": [
        "print('The result is {r}'.format(r = result))"
      ],
      "execution_count": 0,
      "outputs": [
        {
          "output_type": "stream",
          "text": [
            "The result is 0.1287001287001287\n"
          ],
          "name": "stdout"
        }
      ]
    },
    {
      "metadata": {
        "id": "jKvez8XWtHYx",
        "colab_type": "code",
        "colab": {},
        "outputId": "bcc12b34-e335-46f0-9b07-fde347d0fa47"
      },
      "cell_type": "code",
      "source": [
        "print('The result is {r:1.6f}'.format(r = result))"
      ],
      "execution_count": 0,
      "outputs": [
        {
          "output_type": "stream",
          "text": [
            "The result is 0.128700\n"
          ],
          "name": "stdout"
        }
      ]
    },
    {
      "metadata": {
        "id": "Yj25ogRVtHY7",
        "colab_type": "code",
        "colab": {},
        "outputId": "f8907379-4f41-4e85-e52f-8426517148b3"
      },
      "cell_type": "code",
      "source": [
        "print(f'The result is {result}'.format(result))"
      ],
      "execution_count": 0,
      "outputs": [
        {
          "output_type": "stream",
          "text": [
            "The result is 0.1287001287001287\n"
          ],
          "name": "stdout"
        }
      ]
    },
    {
      "metadata": {
        "id": "GOF7k8CDtoH8",
        "colab_type": "code",
        "colab": {
          "base_uri": "https://localhost:8080/",
          "height": 34
        },
        "outputId": "bf2f3667-3177-4696-fc75-0da1dcedd32d"
      },
      "cell_type": "code",
      "source": [
        "print(\"I'm going on a run\")"
      ],
      "execution_count": 2,
      "outputs": [
        {
          "output_type": "stream",
          "text": [
            "I'm going on a run\n"
          ],
          "name": "stdout"
        }
      ]
    }
  ]
}